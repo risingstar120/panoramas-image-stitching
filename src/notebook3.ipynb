{
 "cells": [
  {
   "cell_type": "code",
   "execution_count": 1,
   "metadata": {
    "collapsed": true
   },
   "outputs": [],
   "source": [
    "# coding: utf-8\n",
    "\n",
    "import sys\n",
    "import cv2\n",
    "import math\n",
    "import numpy as np\n",
    "import matplotlib.pyplot as plt\n",
    "import feature\n",
    "import utils"
   ]
  },
  {
   "cell_type": "code",
   "execution_count": 2,
   "metadata": {
    "collapsed": true
   },
   "outputs": [],
   "source": [
    "img_list = utils.load_images('../input_image/parrington')\n",
    "cylinder_img_list = [utils.cylindrical_projection(img, 706) for img in img_list]"
   ]
  },
  {
   "cell_type": "code",
   "execution_count": 3,
   "metadata": {
    "collapsed": true
   },
   "outputs": [],
   "source": [
    "corner_r = feature.harris_corner(cylinder_img_list[0])\n",
    "descriptors1, pos1 = feature.extract_description(cylinder_img_list[0], corner_r, kernel=5)"
   ]
  },
  {
   "cell_type": "code",
   "execution_count": 4,
   "metadata": {
    "collapsed": true
   },
   "outputs": [],
   "source": [
    "corner_r2 = feature.harris_corner(cylinder_img_list[1])\n",
    "descriptors2, pos2 = feature.extract_description(cylinder_img_list[1], corner_r2, kernel=5)"
   ]
  },
  {
   "cell_type": "code",
   "execution_count": 5,
   "metadata": {
    "collapsed": false
   },
   "outputs": [],
   "source": [
    "mp = feature.matching(descriptors1, descriptors2, pos1, pos2)"
   ]
  },
  {
   "cell_type": "code",
   "execution_count": 7,
   "metadata": {
    "collapsed": false
   },
   "outputs": [
    {
     "data": {
      "text/plain": [
       "74"
      ]
     },
     "execution_count": 7,
     "metadata": {},
     "output_type": "execute_result"
    }
   ],
   "source": [
    "_, offset, _ = cylinder_img_list[0].shape\n",
    "plt_img = np.concatenate((cylinder_img_list[0], cylinder_img_list[1]), axis=1)\n",
    "plt.figure(figsize=(20,20))\n",
    "plt.imshow(plt_img)\n",
    "for i in range(len(matched)//1):\n",
    "    plt.scatter(x=matched[i][0][1], y=matched[i][0][0], c='r')\n",
    "    plt.plot([matched[i][0][1], offset+matched[i][1][1]], [matched[i][0][0], matched[i][1][0]], 'y-', lw=1)\n",
    "    plt.scatter(x=offset+matched[i][1][1], y=matched[i][1][0], c='b')\n",
    "plt.show()\n"
   ]
  },
  {
   "cell_type": "code",
   "execution_count": null,
   "metadata": {
    "collapsed": true
   },
   "outputs": [],
   "source": []
  }
 ],
 "metadata": {
  "kernelspec": {
   "display_name": "Python 3",
   "language": "python",
   "name": "python3"
  },
  "language_info": {
   "codemirror_mode": {
    "name": "ipython",
    "version": 3
   },
   "file_extension": ".py",
   "mimetype": "text/x-python",
   "name": "python",
   "nbconvert_exporter": "python",
   "pygments_lexer": "ipython3",
   "version": "3.5.3"
  }
 },
 "nbformat": 4,
 "nbformat_minor": 2
}
