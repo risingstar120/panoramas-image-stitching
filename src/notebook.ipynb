{
 "cells": [
  {
   "cell_type": "code",
   "execution_count": 3,
   "metadata": {
    "collapsed": true
   },
   "outputs": [],
   "source": [
    "import os\n",
    "import sys\n",
    "import cv2\n",
    "import numpy as np\n",
    "import matplotlib.pyplot as plt"
   ]
  },
  {
   "cell_type": "code",
   "execution_count": 168,
   "metadata": {
    "collapsed": true
   },
   "outputs": [],
   "source": [
    "def load_images(source_dir):\n",
    "    imgs = []\n",
    "    \n",
    "    for (dirpath, dirnames, filenames) in os.walk(source_dir):\n",
    "        imgs.extend([filename for filename in filenames if filename.endswith('.jpg') or filename.endswith('.png')])\n",
    "        break\n",
    "    \n",
    "    image_list = [cv2.imread(os.path.join(source_dir, img), 1) for img in imgs]\n",
    "\n",
    "    return image_list"
   ]
  },
  {
   "cell_type": "code",
   "execution_count": 175,
   "metadata": {
    "collapsed": true
   },
   "outputs": [],
   "source": [
    "img_list = load_images('../input_image/harris')"
   ]
  },
  {
   "cell_type": "code",
   "execution_count": 170,
   "metadata": {},
   "outputs": [],
   "source": [
    "img = img_list[0]\n",
    "dst = cv2.cornerHarris(img[:,:,0],2,3,0.04)\n",
    "\n",
    "#result is dilated for marking the corners, not important\n",
    "dst = cv2.dilate(dst,None)\n",
    "\n",
    "# Threshold for an optimal value, it may vary depending on the image.\n",
    "img[dst>0.01*dst.max()]=[0,0,255]\n",
    "\n",
    "cv2.imshow('dst',img)\n",
    "if cv2.waitKey(0) & 0xff == 27:\n",
    "    cv2.destroyAllWindows()"
   ]
  },
  {
   "cell_type": "code",
   "execution_count": 192,
   "metadata": {},
   "outputs": [],
   "source": [
    "def harris_corner(img, threshold=0, k=0.04, kernel=3):\n",
    "    gray = cv2.cvtColor(img, cv2.COLOR_BGR2GRAY)\n",
    "    height, width, _ = img.shape\n",
    "    dx = cv2.Sobel(gray, -1, 1, 0)\n",
    "    dy = cv2.Sobel(gray, -1, 0, 1)\n",
    "\n",
    "    #dy, dx = np.gradient(gray)\n",
    "    Ixx = dx**2\n",
    "    Iyy = dy**2\n",
    "    Ixy = dx*dy\n",
    "    \n",
    "    corners = np.zeros(shape=(height*width//1000, 3), dtype=np.float32)\n",
    "    offset = kernel//2\n",
    "    for y in range(offset, height-offset+1):\n",
    "        for x in range(offset, width-offset+1):\n",
    "            # if window function is binary\n",
    "            Sxx = Ixx[y-offset:y+offset+1, x-offset:x+offset+1].sum()\n",
    "            Syy = Iyy[y-offset:y+offset+1, x-offset:x+offset+1].sum()\n",
    "            Sxy = Ixy[y-offset:y+offset+1, x-offset:x+offset+1].sum()\n",
    "            \n",
    "            # M = [[Sxx, Sxy],\n",
    "            #      [Sxy, Syy]]\n",
    "            det_M = Sxx*Syy - Sxy**2\n",
    "            trace_M = Sxx + Syy\n",
    "            \n",
    "            R = det_M - k*(trace_M**2)\n",
    "            \n",
    "            if R > corners.min():\n",
    "                corners[np.argmin(corners, axis=0)[-1]] = [x, y, R]\n",
    "                #corners.append([x, y, R])\n",
    "            \n",
    "    #print(corners)\n",
    "    return corners\n",
    "    "
   ]
  },
  {
   "cell_type": "code",
   "execution_count": 193,
   "metadata": {},
   "outputs": [],
   "source": [
    "cm = harris_corner(img_list[0], 10000)\n",
    "#c[dst>0.01*dst.max()]=[0,0,255]\n",
    " "
   ]
  },
  {
   "cell_type": "code",
   "execution_count": 194,
   "metadata": {},
   "outputs": [
    {
     "data": {
      "image/png": "[encoded data removed]",
      "text/plain": [
       "<matplotlib.figure.Figure at 0x1b3faa40c50>"
      ]
     },
     "metadata": {},
     "output_type": "display_data"
    }
   ],
   "source": [
    "plt.figure(figsize=(10,10))\n",
    "plt.imshow(img_list[0])\n",
    "for x in cm:\n",
    "    plt.scatter(x=x[0], y=x[1], c='r', s=10)\n",
    "\n",
    "plt.show()"
   ]
  },
  {
   "cell_type": "code",
   "execution_count": null,
   "metadata": {
    "collapsed": true
   },
   "outputs": [],
   "source": []
  }
 ],
 "metadata": {
  "kernelspec": {
   "display_name": "Python 3",
   "language": "python",
   "name": "python3"
  },
  "language_info": {
   "codemirror_mode": {
    "name": "ipython",
    "version": 3
   },
   "file_extension": ".py",
   "mimetype": "text/x-python",
   "name": "python",
   "nbconvert_exporter": "python",
   "pygments_lexer": "ipython3",
   "version": "3.5.3"
  }
 },
 "nbformat": 4,
 "nbformat_minor": 2
}
